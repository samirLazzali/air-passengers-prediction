{
 "cells": [
  {
   "cell_type": "markdown",
   "metadata": {},
   "source": [
    "## Intégration des vacances et des fêtes"
   ]
  },
  {
   "cell_type": "code",
   "execution_count": 1,
   "metadata": {},
   "outputs": [],
   "source": [
    "import os\n",
    "import importlib\n",
    "import numpy as np\n",
    "import pandas as pd\n",
    "import matplotlib.pyplot as plt\n",
    "from describe import stats_histo\n",
    "import problem\n",
    "import warnings\n",
    "pd.set_option('display.max_columns', None)\n",
    "warnings.filterwarnings(\"ignore\")"
   ]
  },
  {
   "cell_type": "markdown",
   "metadata": {},
   "source": [
    "On importe les données initiales"
   ]
  },
  {
   "cell_type": "code",
   "execution_count": 2,
   "metadata": {},
   "outputs": [],
   "source": [
    "X_train, y_train = problem.get_train_data()"
   ]
  },
  {
   "cell_type": "code",
   "execution_count": 3,
   "metadata": {
    "scrolled": true
   },
   "outputs": [
    {
     "data": {
      "text/html": [
       "<div>\n",
       "<style scoped>\n",
       "    .dataframe tbody tr th:only-of-type {\n",
       "        vertical-align: middle;\n",
       "    }\n",
       "\n",
       "    .dataframe tbody tr th {\n",
       "        vertical-align: top;\n",
       "    }\n",
       "\n",
       "    .dataframe thead th {\n",
       "        text-align: right;\n",
       "    }\n",
       "</style>\n",
       "<table border=\"1\" class=\"dataframe\">\n",
       "  <thead>\n",
       "    <tr style=\"text-align: right;\">\n",
       "      <th></th>\n",
       "      <th>DateOfDeparture</th>\n",
       "      <th>Departure</th>\n",
       "      <th>Arrival</th>\n",
       "      <th>WeeksToDeparture</th>\n",
       "      <th>std_wtd</th>\n",
       "    </tr>\n",
       "  </thead>\n",
       "  <tbody>\n",
       "    <tr>\n",
       "      <th>0</th>\n",
       "      <td>2012-06-19</td>\n",
       "      <td>ORD</td>\n",
       "      <td>DFW</td>\n",
       "      <td>12.875000</td>\n",
       "      <td>9.812647</td>\n",
       "    </tr>\n",
       "    <tr>\n",
       "      <th>1</th>\n",
       "      <td>2012-09-10</td>\n",
       "      <td>LAS</td>\n",
       "      <td>DEN</td>\n",
       "      <td>14.285714</td>\n",
       "      <td>9.466734</td>\n",
       "    </tr>\n",
       "    <tr>\n",
       "      <th>2</th>\n",
       "      <td>2012-10-05</td>\n",
       "      <td>DEN</td>\n",
       "      <td>LAX</td>\n",
       "      <td>10.863636</td>\n",
       "      <td>9.035883</td>\n",
       "    </tr>\n",
       "    <tr>\n",
       "      <th>3</th>\n",
       "      <td>2011-10-09</td>\n",
       "      <td>ATL</td>\n",
       "      <td>ORD</td>\n",
       "      <td>11.480000</td>\n",
       "      <td>7.990202</td>\n",
       "    </tr>\n",
       "    <tr>\n",
       "      <th>4</th>\n",
       "      <td>2012-02-21</td>\n",
       "      <td>DEN</td>\n",
       "      <td>SFO</td>\n",
       "      <td>11.450000</td>\n",
       "      <td>9.517159</td>\n",
       "    </tr>\n",
       "  </tbody>\n",
       "</table>\n",
       "</div>"
      ],
      "text/plain": [
       "  DateOfDeparture Departure Arrival  WeeksToDeparture   std_wtd\n",
       "0      2012-06-19       ORD     DFW         12.875000  9.812647\n",
       "1      2012-09-10       LAS     DEN         14.285714  9.466734\n",
       "2      2012-10-05       DEN     LAX         10.863636  9.035883\n",
       "3      2011-10-09       ATL     ORD         11.480000  7.990202\n",
       "4      2012-02-21       DEN     SFO         11.450000  9.517159"
      ]
     },
     "execution_count": 3,
     "metadata": {},
     "output_type": "execute_result"
    }
   ],
   "source": [
    "X_train.head()"
   ]
  },
  {
   "cell_type": "code",
   "execution_count": 6,
   "metadata": {},
   "outputs": [],
   "source": [
    "holiday = pd.read_csv(\"data/us-federal-holidays-2011-2020.csv\")"
   ]
  },
  {
   "cell_type": "code",
   "execution_count": 7,
   "metadata": {
    "scrolled": true
   },
   "outputs": [
    {
     "data": {
      "text/html": [
       "<div>\n",
       "<style scoped>\n",
       "    .dataframe tbody tr th:only-of-type {\n",
       "        vertical-align: middle;\n",
       "    }\n",
       "\n",
       "    .dataframe tbody tr th {\n",
       "        vertical-align: top;\n",
       "    }\n",
       "\n",
       "    .dataframe thead th {\n",
       "        text-align: right;\n",
       "    }\n",
       "</style>\n",
       "<table border=\"1\" class=\"dataframe\">\n",
       "  <thead>\n",
       "    <tr style=\"text-align: right;\">\n",
       "      <th></th>\n",
       "      <th>Date</th>\n",
       "      <th>Holiday</th>\n",
       "    </tr>\n",
       "  </thead>\n",
       "  <tbody>\n",
       "    <tr>\n",
       "      <th>0</th>\n",
       "      <td>12/31/2010</td>\n",
       "      <td>New Year's Day</td>\n",
       "    </tr>\n",
       "    <tr>\n",
       "      <th>1</th>\n",
       "      <td>1/17/2011</td>\n",
       "      <td>Birthday of Martin Luther King, Jr.</td>\n",
       "    </tr>\n",
       "    <tr>\n",
       "      <th>2</th>\n",
       "      <td>2/21/2011</td>\n",
       "      <td>Washington's Birthday</td>\n",
       "    </tr>\n",
       "    <tr>\n",
       "      <th>3</th>\n",
       "      <td>5/30/2011</td>\n",
       "      <td>Memorial Day</td>\n",
       "    </tr>\n",
       "    <tr>\n",
       "      <th>4</th>\n",
       "      <td>7/4/2011</td>\n",
       "      <td>Independence Day</td>\n",
       "    </tr>\n",
       "  </tbody>\n",
       "</table>\n",
       "</div>"
      ],
      "text/plain": [
       "         Date                              Holiday\n",
       "0  12/31/2010                       New Year's Day\n",
       "1   1/17/2011  Birthday of Martin Luther King, Jr.\n",
       "2   2/21/2011                Washington's Birthday\n",
       "3   5/30/2011                         Memorial Day\n",
       "4    7/4/2011                     Independence Day"
      ]
     },
     "execution_count": 7,
     "metadata": {},
     "output_type": "execute_result"
    }
   ],
   "source": [
    "holiday.head()"
   ]
  },
  {
   "cell_type": "code",
   "execution_count": 8,
   "metadata": {},
   "outputs": [],
   "source": [
    "X_train[\"DateOfDeparture\"] = pd.to_datetime(X_train.DateOfDeparture)\n",
    "\n",
    "# - - - - - - - \n",
    "\n",
    "holiday = holiday.rename(columns={'Date': 'DateOfDeparture'})\n",
    "holiday[\"DateOfDeparture\"] = pd.to_datetime(holiday[\"DateOfDeparture\"])\n",
    "\n",
    "X_train = pd.merge(X_train, holiday, \n",
    "              how='left',\n",
    "              on=[\"DateOfDeparture\"],\n",
    "             sort=False)\n",
    "\n",
    "X_train[\"Holiday\"] = pd.get_dummies(X_train.Holiday.isnull().astype(int))"
   ]
  },
  {
   "cell_type": "code",
   "execution_count": 9,
   "metadata": {},
   "outputs": [],
   "source": [
    "X_train[\"Y\"] = y_train"
   ]
  },
  {
   "cell_type": "markdown",
   "metadata": {},
   "source": [
    "L'ANOVA ou test de Student dans le cas de deux échantillons teste l'hypothèse nulle que un ou plusieurs groupes ont la même moyenne."
   ]
  },
  {
   "cell_type": "code",
   "execution_count": 33,
   "metadata": {},
   "outputs": [
    {
     "name": "stdout",
     "output_type": "stream",
     "text": [
      "Statistique de test : -6.329835202510881\n",
      "P-valeur : 0.0\n"
     ]
    }
   ],
   "source": [
    "from scipy.stats import f_oneway, ttest_ind\n",
    "\n",
    "test = ttest_ind(X_train[\"Y\"][X_train[\"Holiday\"] == 1],\n",
    "                 X_train[\"Y\"][X_train[\"Holiday\"] == 0])\n",
    "\n",
    "print(\"Statistique de test :\",test.statistic)\n",
    "print(\"P-valeur :\",test.pvalue.round(4))"
   ]
  },
  {
   "cell_type": "code",
   "execution_count": 10,
   "metadata": {},
   "outputs": [
    {
     "data": {
      "text/html": [
       "<div>\n",
       "<style scoped>\n",
       "    .dataframe tbody tr th:only-of-type {\n",
       "        vertical-align: middle;\n",
       "    }\n",
       "\n",
       "    .dataframe tbody tr th {\n",
       "        vertical-align: top;\n",
       "    }\n",
       "\n",
       "    .dataframe thead th {\n",
       "        text-align: right;\n",
       "    }\n",
       "</style>\n",
       "<table border=\"1\" class=\"dataframe\">\n",
       "  <thead>\n",
       "    <tr style=\"text-align: right;\">\n",
       "      <th></th>\n",
       "      <th>DateOfDeparture</th>\n",
       "      <th>Departure</th>\n",
       "      <th>Arrival</th>\n",
       "      <th>WeeksToDeparture</th>\n",
       "      <th>std_wtd</th>\n",
       "      <th>Holiday</th>\n",
       "      <th>Y</th>\n",
       "    </tr>\n",
       "  </thead>\n",
       "  <tbody>\n",
       "    <tr>\n",
       "      <th>0</th>\n",
       "      <td>2012-06-19</td>\n",
       "      <td>ORD</td>\n",
       "      <td>DFW</td>\n",
       "      <td>12.875000</td>\n",
       "      <td>9.812647</td>\n",
       "      <td>0</td>\n",
       "      <td>12.331296</td>\n",
       "    </tr>\n",
       "    <tr>\n",
       "      <th>1</th>\n",
       "      <td>2012-09-10</td>\n",
       "      <td>LAS</td>\n",
       "      <td>DEN</td>\n",
       "      <td>14.285714</td>\n",
       "      <td>9.466734</td>\n",
       "      <td>0</td>\n",
       "      <td>10.775182</td>\n",
       "    </tr>\n",
       "    <tr>\n",
       "      <th>2</th>\n",
       "      <td>2012-10-05</td>\n",
       "      <td>DEN</td>\n",
       "      <td>LAX</td>\n",
       "      <td>10.863636</td>\n",
       "      <td>9.035883</td>\n",
       "      <td>0</td>\n",
       "      <td>11.083177</td>\n",
       "    </tr>\n",
       "    <tr>\n",
       "      <th>3</th>\n",
       "      <td>2011-10-09</td>\n",
       "      <td>ATL</td>\n",
       "      <td>ORD</td>\n",
       "      <td>11.480000</td>\n",
       "      <td>7.990202</td>\n",
       "      <td>0</td>\n",
       "      <td>11.169268</td>\n",
       "    </tr>\n",
       "    <tr>\n",
       "      <th>4</th>\n",
       "      <td>2012-02-21</td>\n",
       "      <td>DEN</td>\n",
       "      <td>SFO</td>\n",
       "      <td>11.450000</td>\n",
       "      <td>9.517159</td>\n",
       "      <td>0</td>\n",
       "      <td>11.269364</td>\n",
       "    </tr>\n",
       "  </tbody>\n",
       "</table>\n",
       "</div>"
      ],
      "text/plain": [
       "  DateOfDeparture Departure Arrival  WeeksToDeparture   std_wtd  Holiday  \\\n",
       "0      2012-06-19       ORD     DFW         12.875000  9.812647        0   \n",
       "1      2012-09-10       LAS     DEN         14.285714  9.466734        0   \n",
       "2      2012-10-05       DEN     LAX         10.863636  9.035883        0   \n",
       "3      2011-10-09       ATL     ORD         11.480000  7.990202        0   \n",
       "4      2012-02-21       DEN     SFO         11.450000  9.517159        0   \n",
       "\n",
       "           Y  \n",
       "0  12.331296  \n",
       "1  10.775182  \n",
       "2  11.083177  \n",
       "3  11.169268  \n",
       "4  11.269364  "
      ]
     },
     "execution_count": 10,
     "metadata": {},
     "output_type": "execute_result"
    }
   ],
   "source": [
    "X_train.head()"
   ]
  },
  {
   "cell_type": "markdown",
   "metadata": {},
   "source": [
    "On va ajouter les données sur `external_data`"
   ]
  },
  {
   "cell_type": "code",
   "execution_count": 13,
   "metadata": {},
   "outputs": [],
   "source": [
    "extern = pd.read_csv('submissions/submit/external_data.csv', index_col=0)"
   ]
  },
  {
   "cell_type": "markdown",
   "metadata": {},
   "source": [
    "On regarde le nom des colonnes pour le merge : "
   ]
  },
  {
   "cell_type": "code",
   "execution_count": 14,
   "metadata": {
    "scrolled": true
   },
   "outputs": [
    {
     "data": {
      "text/html": [
       "<div>\n",
       "<style scoped>\n",
       "    .dataframe tbody tr th:only-of-type {\n",
       "        vertical-align: middle;\n",
       "    }\n",
       "\n",
       "    .dataframe tbody tr th {\n",
       "        vertical-align: top;\n",
       "    }\n",
       "\n",
       "    .dataframe thead th {\n",
       "        text-align: right;\n",
       "    }\n",
       "</style>\n",
       "<table border=\"1\" class=\"dataframe\">\n",
       "  <thead>\n",
       "    <tr style=\"text-align: right;\">\n",
       "      <th></th>\n",
       "      <th>Date</th>\n",
       "      <th>AirPort</th>\n",
       "      <th>Max TemperatureC</th>\n",
       "      <th>Mean TemperatureC</th>\n",
       "      <th>Min TemperatureC</th>\n",
       "      <th>Dew PointC</th>\n",
       "      <th>MeanDew PointC</th>\n",
       "      <th>Min DewpointC</th>\n",
       "      <th>Max Humidity</th>\n",
       "      <th>Mean Humidity</th>\n",
       "      <th>Min Humidity</th>\n",
       "      <th>Max Sea Level PressurehPa</th>\n",
       "      <th>Mean Sea Level PressurehPa</th>\n",
       "      <th>Min Sea Level PressurehPa</th>\n",
       "      <th>Max VisibilityKm</th>\n",
       "      <th>Mean VisibilityKm</th>\n",
       "      <th>Min VisibilitykM</th>\n",
       "      <th>Max Wind SpeedKm/h</th>\n",
       "      <th>Mean Wind SpeedKm/h</th>\n",
       "      <th>Max Gust SpeedKm/h</th>\n",
       "      <th>CloudCover</th>\n",
       "      <th>Events</th>\n",
       "      <th>WindDirDegrees</th>\n",
       "      <th>Holiday</th>\n",
       "      <th>TOTAL_DEPARTURE</th>\n",
       "      <th>TOTAL_DESTINATION</th>\n",
       "      <th>unemployment</th>\n",
       "      <th>INDEX_PRICE</th>\n",
       "      <th>Index_passengers</th>\n",
       "      <th>Price</th>\n",
       "    </tr>\n",
       "  </thead>\n",
       "  <tbody>\n",
       "    <tr>\n",
       "      <th>0</th>\n",
       "      <td>2011-09-01</td>\n",
       "      <td>ATL</td>\n",
       "      <td>35</td>\n",
       "      <td>29</td>\n",
       "      <td>24</td>\n",
       "      <td>21</td>\n",
       "      <td>18</td>\n",
       "      <td>14</td>\n",
       "      <td>79</td>\n",
       "      <td>56</td>\n",
       "      <td>32</td>\n",
       "      <td>1022</td>\n",
       "      <td>1019</td>\n",
       "      <td>1017</td>\n",
       "      <td>16</td>\n",
       "      <td>16</td>\n",
       "      <td>11</td>\n",
       "      <td>19</td>\n",
       "      <td>6</td>\n",
       "      <td>26.0</td>\n",
       "      <td>3</td>\n",
       "      <td>Sun</td>\n",
       "      <td>129</td>\n",
       "      <td>0</td>\n",
       "      <td>3582088</td>\n",
       "      <td>3580851</td>\n",
       "      <td>10.995779</td>\n",
       "      <td>0.151846</td>\n",
       "      <td>115.0</td>\n",
       "      <td>85.52</td>\n",
       "    </tr>\n",
       "    <tr>\n",
       "      <th>1</th>\n",
       "      <td>2011-09-02</td>\n",
       "      <td>ATL</td>\n",
       "      <td>36</td>\n",
       "      <td>29</td>\n",
       "      <td>22</td>\n",
       "      <td>17</td>\n",
       "      <td>15</td>\n",
       "      <td>14</td>\n",
       "      <td>61</td>\n",
       "      <td>46</td>\n",
       "      <td>30</td>\n",
       "      <td>1019</td>\n",
       "      <td>1016</td>\n",
       "      <td>1014</td>\n",
       "      <td>16</td>\n",
       "      <td>16</td>\n",
       "      <td>16</td>\n",
       "      <td>24</td>\n",
       "      <td>7</td>\n",
       "      <td>34.0</td>\n",
       "      <td>2</td>\n",
       "      <td>Sun</td>\n",
       "      <td>185</td>\n",
       "      <td>0</td>\n",
       "      <td>3582088</td>\n",
       "      <td>3580851</td>\n",
       "      <td>10.995779</td>\n",
       "      <td>0.151846</td>\n",
       "      <td>115.0</td>\n",
       "      <td>85.52</td>\n",
       "    </tr>\n",
       "  </tbody>\n",
       "</table>\n",
       "</div>"
      ],
      "text/plain": [
       "         Date AirPort  Max TemperatureC  Mean TemperatureC  Min TemperatureC  \\\n",
       "0  2011-09-01     ATL                35                 29                24   \n",
       "1  2011-09-02     ATL                36                 29                22   \n",
       "\n",
       "   Dew PointC  MeanDew PointC  Min DewpointC  Max Humidity  Mean Humidity  \\\n",
       "0          21              18             14            79             56   \n",
       "1          17              15             14            61             46   \n",
       "\n",
       "   Min Humidity  Max Sea Level PressurehPa  Mean Sea Level PressurehPa  \\\n",
       "0            32                       1022                        1019   \n",
       "1            30                       1019                        1016   \n",
       "\n",
       "   Min Sea Level PressurehPa  Max VisibilityKm  Mean VisibilityKm  \\\n",
       "0                       1017                16                 16   \n",
       "1                       1014                16                 16   \n",
       "\n",
       "   Min VisibilitykM  Max Wind SpeedKm/h  Mean Wind SpeedKm/h  \\\n",
       "0                11                  19                    6   \n",
       "1                16                  24                    7   \n",
       "\n",
       "   Max Gust SpeedKm/h  CloudCover Events  WindDirDegrees  Holiday  \\\n",
       "0                26.0           3    Sun             129        0   \n",
       "1                34.0           2    Sun             185        0   \n",
       "\n",
       "   TOTAL_DEPARTURE  TOTAL_DESTINATION  unemployment  INDEX_PRICE  \\\n",
       "0          3582088            3580851     10.995779     0.151846   \n",
       "1          3582088            3580851     10.995779     0.151846   \n",
       "\n",
       "   Index_passengers  Price  \n",
       "0             115.0  85.52  \n",
       "1             115.0  85.52  "
      ]
     },
     "execution_count": 14,
     "metadata": {},
     "output_type": "execute_result"
    }
   ],
   "source": [
    "extern.head(2)"
   ]
  },
  {
   "cell_type": "code",
   "execution_count": 17,
   "metadata": {
    "scrolled": true
   },
   "outputs": [
    {
     "data": {
      "text/html": [
       "<div>\n",
       "<style scoped>\n",
       "    .dataframe tbody tr th:only-of-type {\n",
       "        vertical-align: middle;\n",
       "    }\n",
       "\n",
       "    .dataframe tbody tr th {\n",
       "        vertical-align: top;\n",
       "    }\n",
       "\n",
       "    .dataframe thead th {\n",
       "        text-align: right;\n",
       "    }\n",
       "</style>\n",
       "<table border=\"1\" class=\"dataframe\">\n",
       "  <thead>\n",
       "    <tr style=\"text-align: right;\">\n",
       "      <th></th>\n",
       "      <th>Date</th>\n",
       "      <th>Holiday</th>\n",
       "    </tr>\n",
       "  </thead>\n",
       "  <tbody>\n",
       "    <tr>\n",
       "      <th>0</th>\n",
       "      <td>2010-12-31</td>\n",
       "      <td>New Year's Day</td>\n",
       "    </tr>\n",
       "    <tr>\n",
       "      <th>1</th>\n",
       "      <td>2011-01-17</td>\n",
       "      <td>Birthday of Martin Luther King, Jr.</td>\n",
       "    </tr>\n",
       "  </tbody>\n",
       "</table>\n",
       "</div>"
      ],
      "text/plain": [
       "        Date                              Holiday\n",
       "0 2010-12-31                       New Year's Day\n",
       "1 2011-01-17  Birthday of Martin Luther King, Jr."
      ]
     },
     "execution_count": 17,
     "metadata": {},
     "output_type": "execute_result"
    }
   ],
   "source": [
    "holiday.head(2)"
   ]
  },
  {
   "cell_type": "code",
   "execution_count": 18,
   "metadata": {},
   "outputs": [],
   "source": [
    "extern[\"Date\"] = pd.to_datetime(extern.Date)\n",
    "\n",
    "# - - - - - - - \n",
    "\n",
    "holiday = holiday.rename(columns={'Date': 'Date'})\n",
    "holiday[\"Date\"] = pd.to_datetime(holiday[\"Date\"])\n",
    "\n",
    "extern = pd.merge(extern, holiday, \n",
    "              how='left',\n",
    "              on=[\"Date\"],\n",
    "             sort=False)\n",
    "\n",
    "extern[\"Holiday\"] = pd.get_dummies(extern.Holiday.isnull().astype(int))"
   ]
  },
  {
   "cell_type": "markdown",
   "metadata": {},
   "source": [
    "On vérifie : "
   ]
  },
  {
   "cell_type": "code",
   "execution_count": 58,
   "metadata": {},
   "outputs": [
    {
     "data": {
      "text/html": [
       "<div>\n",
       "<style scoped>\n",
       "    .dataframe tbody tr th:only-of-type {\n",
       "        vertical-align: middle;\n",
       "    }\n",
       "\n",
       "    .dataframe tbody tr th {\n",
       "        vertical-align: top;\n",
       "    }\n",
       "\n",
       "    .dataframe thead th {\n",
       "        text-align: right;\n",
       "    }\n",
       "</style>\n",
       "<table border=\"1\" class=\"dataframe\">\n",
       "  <thead>\n",
       "    <tr style=\"text-align: right;\">\n",
       "      <th></th>\n",
       "      <th>Date</th>\n",
       "      <th>AirPort</th>\n",
       "      <th>Max TemperatureC</th>\n",
       "      <th>Mean TemperatureC</th>\n",
       "      <th>Min TemperatureC</th>\n",
       "      <th>Dew PointC</th>\n",
       "      <th>MeanDew PointC</th>\n",
       "      <th>Min DewpointC</th>\n",
       "      <th>Max Humidity</th>\n",
       "      <th>Mean Humidity</th>\n",
       "      <th>Min Humidity</th>\n",
       "      <th>Max Sea Level PressurehPa</th>\n",
       "      <th>Mean Sea Level PressurehPa</th>\n",
       "      <th>Min Sea Level PressurehPa</th>\n",
       "      <th>Max VisibilityKm</th>\n",
       "      <th>Mean VisibilityKm</th>\n",
       "      <th>Min VisibilitykM</th>\n",
       "      <th>Max Wind SpeedKm/h</th>\n",
       "      <th>Mean Wind SpeedKm/h</th>\n",
       "      <th>Max Gust SpeedKm/h</th>\n",
       "      <th>Precipitationmm</th>\n",
       "      <th>CloudCover</th>\n",
       "      <th>Events</th>\n",
       "      <th>WindDirDegrees</th>\n",
       "      <th>Holiday</th>\n",
       "    </tr>\n",
       "  </thead>\n",
       "  <tbody>\n",
       "    <tr>\n",
       "      <th>248</th>\n",
       "      <td>2011-09-05</td>\n",
       "      <td>LAX</td>\n",
       "      <td>27</td>\n",
       "      <td>22</td>\n",
       "      <td>17</td>\n",
       "      <td>15</td>\n",
       "      <td>14</td>\n",
       "      <td>13</td>\n",
       "      <td>84</td>\n",
       "      <td>68</td>\n",
       "      <td>52</td>\n",
       "      <td>1012</td>\n",
       "      <td>1010</td>\n",
       "      <td>1009</td>\n",
       "      <td>16</td>\n",
       "      <td>16</td>\n",
       "      <td>13</td>\n",
       "      <td>29</td>\n",
       "      <td>12</td>\n",
       "      <td>37.0</td>\n",
       "      <td>T</td>\n",
       "      <td>4</td>\n",
       "      <td>Rain</td>\n",
       "      <td>243</td>\n",
       "      <td>1</td>\n",
       "    </tr>\n",
       "  </tbody>\n",
       "</table>\n",
       "</div>"
      ],
      "text/plain": [
       "          Date AirPort  Max TemperatureC  Mean TemperatureC  Min TemperatureC  \\\n",
       "248 2011-09-05     LAX                27                 22                17   \n",
       "\n",
       "     Dew PointC  MeanDew PointC  Min DewpointC  Max Humidity  Mean Humidity  \\\n",
       "248          15              14             13            84             68   \n",
       "\n",
       "     Min Humidity  Max Sea Level PressurehPa  Mean Sea Level PressurehPa  \\\n",
       "248            52                       1012                        1010   \n",
       "\n",
       "     Min Sea Level PressurehPa  Max VisibilityKm  Mean VisibilityKm  \\\n",
       "248                       1009                16                 16   \n",
       "\n",
       "     Min VisibilitykM  Max Wind SpeedKm/h  Mean Wind SpeedKm/h  \\\n",
       "248                13                  29                   12   \n",
       "\n",
       "     Max Gust SpeedKm/h Precipitationmm  CloudCover Events  WindDirDegrees  \\\n",
       "248                37.0               T           4   Rain             243   \n",
       "\n",
       "     Holiday  \n",
       "248        1  "
      ]
     },
     "execution_count": 58,
     "metadata": {},
     "output_type": "execute_result"
    }
   ],
   "source": [
    "extern[extern.Holiday == 1].iloc[10:11,:]"
   ]
  },
  {
   "cell_type": "code",
   "execution_count": 59,
   "metadata": {
    "scrolled": true
   },
   "outputs": [
    {
     "data": {
      "text/html": [
       "<div>\n",
       "<style scoped>\n",
       "    .dataframe tbody tr th:only-of-type {\n",
       "        vertical-align: middle;\n",
       "    }\n",
       "\n",
       "    .dataframe tbody tr th {\n",
       "        vertical-align: top;\n",
       "    }\n",
       "\n",
       "    .dataframe thead th {\n",
       "        text-align: right;\n",
       "    }\n",
       "</style>\n",
       "<table border=\"1\" class=\"dataframe\">\n",
       "  <thead>\n",
       "    <tr style=\"text-align: right;\">\n",
       "      <th></th>\n",
       "      <th>Date</th>\n",
       "      <th>Holiday</th>\n",
       "    </tr>\n",
       "  </thead>\n",
       "  <tbody>\n",
       "    <tr>\n",
       "      <th>5</th>\n",
       "      <td>2011-09-05</td>\n",
       "      <td>Labor Day</td>\n",
       "    </tr>\n",
       "  </tbody>\n",
       "</table>\n",
       "</div>"
      ],
      "text/plain": [
       "        Date    Holiday\n",
       "5 2011-09-05  Labor Day"
      ]
     },
     "execution_count": 59,
     "metadata": {},
     "output_type": "execute_result"
    }
   ],
   "source": [
    "holiday[holiday.Date == '2011-09-05']"
   ]
  },
  {
   "cell_type": "markdown",
   "metadata": {},
   "source": [
    "On peut utiliser ce `csv` pour notre jeu de données."
   ]
  },
  {
   "cell_type": "code",
   "execution_count": 60,
   "metadata": {},
   "outputs": [],
   "source": [
    "extern.to_csv('submissions/submit/external_data.csv')"
   ]
  },
  {
   "cell_type": "code",
   "execution_count": 141,
   "metadata": {},
   "outputs": [],
   "source": [
    "import datetime"
   ]
  },
  {
   "cell_type": "code",
   "execution_count": 148,
   "metadata": {},
   "outputs": [],
   "source": [
    "def calcul_date(x):\n",
    "    day_bef = datetime.timedelta(days=-2) + x\n",
    "    day_aft = datetime.timedelta(days=+2) + x\n",
    "    return pd.Series([day_aft,day_bef])\n",
    "\n",
    "day_wind = holiday.Date.apply(calcul_date)"
   ]
  },
  {
   "cell_type": "code",
   "execution_count": 149,
   "metadata": {},
   "outputs": [],
   "source": [
    "close_holiday = pd.concat([day_wind.iloc[:,0],day_wind.iloc[:,1]])"
   ]
  },
  {
   "cell_type": "code",
   "execution_count": 150,
   "metadata": {},
   "outputs": [],
   "source": [
    "close_holi = pd.DataFrame(close_holiday, columns=[\"Date\"])\n",
    "close_holi.Date = pd.to_datetime(close_holi.Date)\n",
    "close_holi[\"Holiday\"] = \"Close to holiday two\""
   ]
  },
  {
   "cell_type": "code",
   "execution_count": 151,
   "metadata": {},
   "outputs": [
    {
     "data": {
      "text/html": [
       "<div>\n",
       "<style scoped>\n",
       "    .dataframe tbody tr th:only-of-type {\n",
       "        vertical-align: middle;\n",
       "    }\n",
       "\n",
       "    .dataframe tbody tr th {\n",
       "        vertical-align: top;\n",
       "    }\n",
       "\n",
       "    .dataframe thead th {\n",
       "        text-align: right;\n",
       "    }\n",
       "</style>\n",
       "<table border=\"1\" class=\"dataframe\">\n",
       "  <thead>\n",
       "    <tr style=\"text-align: right;\">\n",
       "      <th></th>\n",
       "      <th>Date</th>\n",
       "      <th>Holiday</th>\n",
       "    </tr>\n",
       "  </thead>\n",
       "  <tbody>\n",
       "    <tr>\n",
       "      <th>0</th>\n",
       "      <td>2011-01-02</td>\n",
       "      <td>Close to holiday two</td>\n",
       "    </tr>\n",
       "    <tr>\n",
       "      <th>1</th>\n",
       "      <td>2011-01-19</td>\n",
       "      <td>Close to holiday two</td>\n",
       "    </tr>\n",
       "    <tr>\n",
       "      <th>2</th>\n",
       "      <td>2011-02-23</td>\n",
       "      <td>Close to holiday two</td>\n",
       "    </tr>\n",
       "    <tr>\n",
       "      <th>3</th>\n",
       "      <td>2011-06-01</td>\n",
       "      <td>Close to holiday two</td>\n",
       "    </tr>\n",
       "    <tr>\n",
       "      <th>4</th>\n",
       "      <td>2011-07-06</td>\n",
       "      <td>Close to holiday two</td>\n",
       "    </tr>\n",
       "    <tr>\n",
       "      <th>...</th>\n",
       "      <td>...</td>\n",
       "      <td>...</td>\n",
       "    </tr>\n",
       "    <tr>\n",
       "      <th>95</th>\n",
       "      <td>2020-09-05</td>\n",
       "      <td>Close to holiday two</td>\n",
       "    </tr>\n",
       "    <tr>\n",
       "      <th>96</th>\n",
       "      <td>2020-10-10</td>\n",
       "      <td>Close to holiday two</td>\n",
       "    </tr>\n",
       "    <tr>\n",
       "      <th>97</th>\n",
       "      <td>2020-11-09</td>\n",
       "      <td>Close to holiday two</td>\n",
       "    </tr>\n",
       "    <tr>\n",
       "      <th>98</th>\n",
       "      <td>2020-11-24</td>\n",
       "      <td>Close to holiday two</td>\n",
       "    </tr>\n",
       "    <tr>\n",
       "      <th>99</th>\n",
       "      <td>2020-12-23</td>\n",
       "      <td>Close to holiday two</td>\n",
       "    </tr>\n",
       "  </tbody>\n",
       "</table>\n",
       "<p>200 rows × 2 columns</p>\n",
       "</div>"
      ],
      "text/plain": [
       "         Date               Holiday\n",
       "0  2011-01-02  Close to holiday two\n",
       "1  2011-01-19  Close to holiday two\n",
       "2  2011-02-23  Close to holiday two\n",
       "3  2011-06-01  Close to holiday two\n",
       "4  2011-07-06  Close to holiday two\n",
       "..        ...                   ...\n",
       "95 2020-09-05  Close to holiday two\n",
       "96 2020-10-10  Close to holiday two\n",
       "97 2020-11-09  Close to holiday two\n",
       "98 2020-11-24  Close to holiday two\n",
       "99 2020-12-23  Close to holiday two\n",
       "\n",
       "[200 rows x 2 columns]"
      ]
     },
     "execution_count": 151,
     "metadata": {},
     "output_type": "execute_result"
    }
   ],
   "source": [
    "close_holi"
   ]
  },
  {
   "cell_type": "code",
   "execution_count": 153,
   "metadata": {},
   "outputs": [],
   "source": [
    "Holiday_closeness = pd.concat([close_holi, Holiday_data]).sort_values(by='Date')"
   ]
  },
  {
   "cell_type": "code",
   "execution_count": 157,
   "metadata": {},
   "outputs": [],
   "source": [
    "Holiday_closeness.to_csv('data/Holiday_closeness.csv', index=False)"
   ]
  },
  {
   "cell_type": "markdown",
   "metadata": {},
   "source": [
    "## Ajout dans external data"
   ]
  },
  {
   "cell_type": "code",
   "execution_count": null,
   "metadata": {},
   "outputs": [],
   "source": []
  },
  {
   "cell_type": "code",
   "execution_count": 3,
   "metadata": {},
   "outputs": [],
   "source": [
    "holiday_close = pd.read_csv('data/Holiday_closeness.csv')"
   ]
  },
  {
   "cell_type": "code",
   "execution_count": 7,
   "metadata": {},
   "outputs": [],
   "source": [
    "def sem(x):\n",
    "    if x == \"Close to holiday two\":\n",
    "        return 1\n",
    "    elif x == \"Close to holiday one\":\n",
    "        return 2\n",
    "    else : \n",
    "        return 3\n",
    "\n",
    "\n",
    "holiday_close.Holiday = holiday_close.Holiday.apply(sem)"
   ]
  },
  {
   "cell_type": "code",
   "execution_count": 15,
   "metadata": {},
   "outputs": [],
   "source": [
    "extern = pd.read_csv('submissions/submit/external_data.csv', index_col=0)"
   ]
  },
  {
   "cell_type": "code",
   "execution_count": 16,
   "metadata": {},
   "outputs": [],
   "source": [
    "extern[\"Date\"] = pd.to_datetime(extern.Date)\n",
    "\n",
    "# - - - - - - - \n",
    "holiday_close[\"Date\"] = pd.to_datetime(holiday_close[\"Date\"])\n",
    "\n",
    "extern = pd.merge(extern, holiday_close, \n",
    "              how='left',\n",
    "              on=[\"Date\"],\n",
    "             sort=False).drop(columns=\"Holiday_x\")"
   ]
  },
  {
   "cell_type": "code",
   "execution_count": 19,
   "metadata": {},
   "outputs": [],
   "source": [
    "extern[\"Holiday_y\"] = extern[\"Holiday_y\"].fillna(0)"
   ]
  },
  {
   "cell_type": "code",
   "execution_count": 23,
   "metadata": {},
   "outputs": [],
   "source": [
    "extern = extern.rename(columns={\"Holiday_y\":\"Holiday\"})"
   ]
  },
  {
   "cell_type": "code",
   "execution_count": 25,
   "metadata": {},
   "outputs": [],
   "source": [
    "extern.to_csv('submissions/submit/external_data.csv')"
   ]
  }
 ],
 "metadata": {
  "kernelspec": {
   "display_name": "Python 3",
   "language": "python",
   "name": "python3"
  },
  "language_info": {
   "codemirror_mode": {
    "name": "ipython",
    "version": 3
   },
   "file_extension": ".py",
   "mimetype": "text/x-python",
   "name": "python",
   "nbconvert_exporter": "python",
   "pygments_lexer": "ipython3",
   "version": "3.7.4"
  }
 },
 "nbformat": 4,
 "nbformat_minor": 2
}
